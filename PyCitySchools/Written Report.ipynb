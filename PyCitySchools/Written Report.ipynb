{
 "cells": [
  {
   "cell_type": "markdown",
   "metadata": {},
   "source": [
    "# PyCitySchools Written Report\n",
    "\n",
    "The top five performing schools were all charter schools and had an overall passing percentage of over 90%. The five worst performing schools were all district schools and had an overall passing percentage of less than 54%. The math and reading scores were very similar within each individual school across all grades. \n",
    "Looking at Scores by School Spending, we can see that as the budget per student increases, the students performances decreases. For the average scores in math and reading, and the percentage of students who passed math, reading and overall, the highest values fall within the lowest per student spending range of less than $585. As the ranges increase, the averages and percentages decrease in all categories.\n",
    "There is not much of a difference between performances of Small and Medium schools, but Large schools appear to perform worse than both Small and Medium schools. Large schools had less than 60 percent passing overall while Small and Medium scools each had over 90 percent passing overall.\n",
    "Looking at Scores by School Type, we can see that Charter Schools perform better than District schools. The difference between overall passing between the two school types was more than 35 percent."
   ]
  },
  {
   "cell_type": "code",
   "execution_count": null,
   "metadata": {},
   "outputs": [],
   "source": []
  }
 ],
 "metadata": {
  "kernelspec": {
   "display_name": "Python 3",
   "language": "python",
   "name": "python3"
  },
  "language_info": {
   "codemirror_mode": {
    "name": "ipython",
    "version": 3
   },
   "file_extension": ".py",
   "mimetype": "text/x-python",
   "name": "python",
   "nbconvert_exporter": "python",
   "pygments_lexer": "ipython3",
   "version": "3.6.10"
  }
 },
 "nbformat": 4,
 "nbformat_minor": 4
}
