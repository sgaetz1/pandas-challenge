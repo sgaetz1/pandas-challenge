{
 "cells": [
  {
   "cell_type": "code",
   "execution_count": 1,
   "metadata": {},
   "outputs": [],
   "source": [
    "# Dependencies and Setup\n",
    "import pandas as pd\n",
    "\n",
    "# File to Load (Remember to Change These)\n",
    "school_data_to_load = \"Resources/schools_complete.csv\"\n",
    "student_data_to_load = \"Resources/students_complete.csv\"\n",
    "\n",
    "# Read School and Student Data File and store into Pandas DataFrames\n",
    "school_data = pd.read_csv(school_data_to_load)\n",
    "student_data = pd.read_csv(student_data_to_load)\n",
    "\n",
    "# Combine the data into a single dataset.  \n",
    "school_data_complete = pd.merge(student_data, school_data, how=\"left\", on=[\"school_name\", \"school_name\"])"
   ]
  },
  {
   "cell_type": "code",
   "execution_count": 2,
   "metadata": {},
   "outputs": [
    {
     "data": {
      "text/html": [
       "<div>\n",
       "<style scoped>\n",
       "    .dataframe tbody tr th:only-of-type {\n",
       "        vertical-align: middle;\n",
       "    }\n",
       "\n",
       "    .dataframe tbody tr th {\n",
       "        vertical-align: top;\n",
       "    }\n",
       "\n",
       "    .dataframe thead th {\n",
       "        text-align: right;\n",
       "    }\n",
       "</style>\n",
       "<table border=\"1\" class=\"dataframe\">\n",
       "  <thead>\n",
       "    <tr style=\"text-align: right;\">\n",
       "      <th></th>\n",
       "      <th>Student ID</th>\n",
       "      <th>student_name</th>\n",
       "      <th>gender</th>\n",
       "      <th>grade</th>\n",
       "      <th>school_name</th>\n",
       "      <th>reading_score</th>\n",
       "      <th>math_score</th>\n",
       "      <th>School ID</th>\n",
       "      <th>type</th>\n",
       "      <th>size</th>\n",
       "      <th>budget</th>\n",
       "    </tr>\n",
       "  </thead>\n",
       "  <tbody>\n",
       "    <tr>\n",
       "      <th>0</th>\n",
       "      <td>0</td>\n",
       "      <td>Paul Bradley</td>\n",
       "      <td>M</td>\n",
       "      <td>9th</td>\n",
       "      <td>Huang High School</td>\n",
       "      <td>66</td>\n",
       "      <td>79</td>\n",
       "      <td>0</td>\n",
       "      <td>District</td>\n",
       "      <td>2917</td>\n",
       "      <td>1910635</td>\n",
       "    </tr>\n",
       "    <tr>\n",
       "      <th>1</th>\n",
       "      <td>1</td>\n",
       "      <td>Victor Smith</td>\n",
       "      <td>M</td>\n",
       "      <td>12th</td>\n",
       "      <td>Huang High School</td>\n",
       "      <td>94</td>\n",
       "      <td>61</td>\n",
       "      <td>0</td>\n",
       "      <td>District</td>\n",
       "      <td>2917</td>\n",
       "      <td>1910635</td>\n",
       "    </tr>\n",
       "    <tr>\n",
       "      <th>2</th>\n",
       "      <td>2</td>\n",
       "      <td>Kevin Rodriguez</td>\n",
       "      <td>M</td>\n",
       "      <td>12th</td>\n",
       "      <td>Huang High School</td>\n",
       "      <td>90</td>\n",
       "      <td>60</td>\n",
       "      <td>0</td>\n",
       "      <td>District</td>\n",
       "      <td>2917</td>\n",
       "      <td>1910635</td>\n",
       "    </tr>\n",
       "    <tr>\n",
       "      <th>3</th>\n",
       "      <td>3</td>\n",
       "      <td>Dr. Richard Scott</td>\n",
       "      <td>M</td>\n",
       "      <td>12th</td>\n",
       "      <td>Huang High School</td>\n",
       "      <td>67</td>\n",
       "      <td>58</td>\n",
       "      <td>0</td>\n",
       "      <td>District</td>\n",
       "      <td>2917</td>\n",
       "      <td>1910635</td>\n",
       "    </tr>\n",
       "    <tr>\n",
       "      <th>4</th>\n",
       "      <td>4</td>\n",
       "      <td>Bonnie Ray</td>\n",
       "      <td>F</td>\n",
       "      <td>9th</td>\n",
       "      <td>Huang High School</td>\n",
       "      <td>97</td>\n",
       "      <td>84</td>\n",
       "      <td>0</td>\n",
       "      <td>District</td>\n",
       "      <td>2917</td>\n",
       "      <td>1910635</td>\n",
       "    </tr>\n",
       "  </tbody>\n",
       "</table>\n",
       "</div>"
      ],
      "text/plain": [
       "   Student ID       student_name gender grade        school_name  \\\n",
       "0           0       Paul Bradley      M   9th  Huang High School   \n",
       "1           1       Victor Smith      M  12th  Huang High School   \n",
       "2           2    Kevin Rodriguez      M  12th  Huang High School   \n",
       "3           3  Dr. Richard Scott      M  12th  Huang High School   \n",
       "4           4         Bonnie Ray      F   9th  Huang High School   \n",
       "\n",
       "   reading_score  math_score  School ID      type  size   budget  \n",
       "0             66          79          0  District  2917  1910635  \n",
       "1             94          61          0  District  2917  1910635  \n",
       "2             90          60          0  District  2917  1910635  \n",
       "3             67          58          0  District  2917  1910635  \n",
       "4             97          84          0  District  2917  1910635  "
      ]
     },
     "execution_count": 2,
     "metadata": {},
     "output_type": "execute_result"
    }
   ],
   "source": [
    "school_data_complete.head()"
   ]
  },
  {
   "cell_type": "code",
   "execution_count": 3,
   "metadata": {},
   "outputs": [
    {
     "data": {
      "text/plain": [
       "School Type\n",
       "Charter     12194\n",
       "District    26976\n",
       "Name: student_name, dtype: int64"
      ]
     },
     "execution_count": 3,
     "metadata": {},
     "output_type": "execute_result"
    }
   ],
   "source": [
    "school_data_complete = school_data_complete.rename(columns = {\"type\":\"School Type\"})\n",
    "school_data_group = school_data_complete.groupby(\"School Type\")\n",
    "school_data_group.head()\n",
    "students_per_bin = school_data_group[\"student_name\"].count()\n",
    "students_per_bin"
   ]
  },
  {
   "cell_type": "code",
   "execution_count": 4,
   "metadata": {},
   "outputs": [],
   "source": [
    "Avg_math = school_data_group[\"math_score\"].mean()\n",
    "Avg_math = round(Avg_math,2)"
   ]
  },
  {
   "cell_type": "code",
   "execution_count": 5,
   "metadata": {},
   "outputs": [],
   "source": [
    "Avg_read = school_data_group[\"reading_score\"].mean()\n",
    "Avg_read = round(Avg_read,2)"
   ]
  },
  {
   "cell_type": "code",
   "execution_count": 6,
   "metadata": {},
   "outputs": [
    {
     "data": {
      "text/plain": [
       "School Type\n",
       "Charter     93.701821\n",
       "District    66.518387\n",
       "dtype: float64"
      ]
     },
     "execution_count": 6,
     "metadata": {},
     "output_type": "execute_result"
    }
   ],
   "source": [
    "#Calculate percent passing math\n",
    "pass_math_df = school_data_complete.loc[school_data_complete[\"math_score\"] >= 70, :]\n",
    "math_group = pass_math_df.groupby(\"School Type\")\n",
    "math_percent = math_group[\"math_score\"].count() /students_per_bin * 100\n",
    "math_percent\n",
    "\n",
    "\n"
   ]
  },
  {
   "cell_type": "code",
   "execution_count": 8,
   "metadata": {},
   "outputs": [
    {
     "data": {
      "text/plain": [
       "School Type\n",
       "Charter     96.645891\n",
       "District    80.905249\n",
       "dtype: float64"
      ]
     },
     "execution_count": 8,
     "metadata": {},
     "output_type": "execute_result"
    }
   ],
   "source": [
    "#calculate percent passing reading\n",
    "pass_read_df = school_data_complete.loc[school_data_complete[\"reading_score\"] >= 70, :]\n",
    "read_group = pass_read_df.groupby(\"School Type\")\n",
    "read_percent = read_group[\"reading_score\"].count() / students_per_bin * 100\n",
    "read_percent"
   ]
  },
  {
   "cell_type": "code",
   "execution_count": 9,
   "metadata": {},
   "outputs": [
    {
     "data": {
      "text/plain": [
       "School Type\n",
       "Charter     90.560932\n",
       "District    53.695878\n",
       "Name: student_name, dtype: float64"
      ]
     },
     "execution_count": 9,
     "metadata": {},
     "output_type": "execute_result"
    }
   ],
   "source": [
    "#calculate percent passing overall\n",
    "overall = school_data_complete.loc[((school_data_complete[\"math_score\"] >= 70) & (school_data_complete[\"reading_score\"] >= 70)) ,:]\n",
    "overall_group = overall.groupby(\"School Type\")\n",
    "overall_percent = overall_group[\"student_name\"].count() / students_per_bin * 100\n",
    "overall_percent"
   ]
  },
  {
   "cell_type": "code",
   "execution_count": 10,
   "metadata": {},
   "outputs": [
    {
     "data": {
      "text/html": [
       "<style  type=\"text/css\" >\n",
       "</style><table id=\"T_85c666a4_60b6_11eb_8166_185e0f69be90\" ><thead>    <tr>        <th class=\"blank level0\" ></th>        <th class=\"col_heading level0 col0\" >Avgerage Math Score</th>        <th class=\"col_heading level0 col1\" >Avgerage Reading Score</th>        <th class=\"col_heading level0 col2\" >% Passing Math</th>        <th class=\"col_heading level0 col3\" >% Passing Reading</th>        <th class=\"col_heading level0 col4\" >% Passing Overall</th>    </tr>    <tr>        <th class=\"index_name level0\" >School Type</th>        <th class=\"blank\" ></th>        <th class=\"blank\" ></th>        <th class=\"blank\" ></th>        <th class=\"blank\" ></th>        <th class=\"blank\" ></th>    </tr></thead><tbody>\n",
       "                <tr>\n",
       "                        <th id=\"T_85c666a4_60b6_11eb_8166_185e0f69be90level0_row0\" class=\"row_heading level0 row0\" >Charter</th>\n",
       "                        <td id=\"T_85c666a4_60b6_11eb_8166_185e0f69be90row0_col0\" class=\"data row0 col0\" >83.410000</td>\n",
       "                        <td id=\"T_85c666a4_60b6_11eb_8166_185e0f69be90row0_col1\" class=\"data row0 col1\" >83.900000</td>\n",
       "                        <td id=\"T_85c666a4_60b6_11eb_8166_185e0f69be90row0_col2\" class=\"data row0 col2\" >93.70</td>\n",
       "                        <td id=\"T_85c666a4_60b6_11eb_8166_185e0f69be90row0_col3\" class=\"data row0 col3\" >96.65</td>\n",
       "                        <td id=\"T_85c666a4_60b6_11eb_8166_185e0f69be90row0_col4\" class=\"data row0 col4\" >90.56</td>\n",
       "            </tr>\n",
       "            <tr>\n",
       "                        <th id=\"T_85c666a4_60b6_11eb_8166_185e0f69be90level0_row1\" class=\"row_heading level0 row1\" >District</th>\n",
       "                        <td id=\"T_85c666a4_60b6_11eb_8166_185e0f69be90row1_col0\" class=\"data row1 col0\" >76.990000</td>\n",
       "                        <td id=\"T_85c666a4_60b6_11eb_8166_185e0f69be90row1_col1\" class=\"data row1 col1\" >80.960000</td>\n",
       "                        <td id=\"T_85c666a4_60b6_11eb_8166_185e0f69be90row1_col2\" class=\"data row1 col2\" >66.52</td>\n",
       "                        <td id=\"T_85c666a4_60b6_11eb_8166_185e0f69be90row1_col3\" class=\"data row1 col3\" >80.91</td>\n",
       "                        <td id=\"T_85c666a4_60b6_11eb_8166_185e0f69be90row1_col4\" class=\"data row1 col4\" >53.70</td>\n",
       "            </tr>\n",
       "    </tbody></table>"
      ],
      "text/plain": [
       "<pandas.io.formats.style.Styler at 0x2bb952a8320>"
      ]
     },
     "execution_count": 10,
     "metadata": {},
     "output_type": "execute_result"
    }
   ],
   "source": [
    "math = pd.Series(Avg_math)\n",
    "read = pd.Series(Avg_read)\n",
    "math_percent = pd.Series(math_percent)\n",
    "read_percent = pd.Series(read_percent)\n",
    "over_percent = pd.Series(overall_percent)\n",
    "summary = pd.DataFrame([math, read, math_percent, read_percent, over_percent])\n",
    "summary = summary.T\n",
    "summary = summary.rename(columns = {\"math_score\": \"Avgerage Math Score\", \"reading_score\": \"Avgerage Reading Score\",\n",
    "                                   \"Unnamed 0\":\"% Passing Math\", \"Unnamed 1\":\"% Passing Reading\", \"student_name\":\"% Passing Overall\"})\n",
    "summary_table = summary.style.format({\"% Passing Math\": \"{:.2f}\", \"% Passing Reading\": \"{:.2f}\", \"% Passing Overall\": \"{:.2f}\"})\n",
    "summary_table"
   ]
  },
  {
   "cell_type": "code",
   "execution_count": null,
   "metadata": {},
   "outputs": [],
   "source": []
  }
 ],
 "metadata": {
  "kernelspec": {
   "display_name": "Python 3",
   "language": "python",
   "name": "python3"
  },
  "language_info": {
   "codemirror_mode": {
    "name": "ipython",
    "version": 3
   },
   "file_extension": ".py",
   "mimetype": "text/x-python",
   "name": "python",
   "nbconvert_exporter": "python",
   "pygments_lexer": "ipython3",
   "version": "3.6.10"
  }
 },
 "nbformat": 4,
 "nbformat_minor": 4
}
