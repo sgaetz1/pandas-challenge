{
 "cells": [
  {
   "cell_type": "code",
   "execution_count": null,
   "metadata": {},
   "outputs": [],
   "source": [
    "# Dependencies and Setup\n",
    "import pandas as pd\n",
    "\n",
    "# File to Load (Remember to Change These)\n",
    "school_data_to_load = \"Resources/schools_complete.csv\"\n",
    "student_data_to_load = \"Resources/students_complete.csv\"\n",
    "\n",
    "# Read School and Student Data File and store into Pandas DataFrames\n",
    "school_data = pd.read_csv(school_data_to_load)\n",
    "student_data = pd.read_csv(student_data_to_load)\n",
    "\n",
    "# Combine the data into a single dataset.  \n",
    "school_data_complete = pd.merge(student_data, school_data, how=\"left\", on=[\"school_name\", \"school_name\"])"
   ]
  },
  {
   "cell_type": "code",
   "execution_count": null,
   "metadata": {},
   "outputs": [],
   "source": [
    "#set school name as the index\n",
    "school_df = school_data_complete.rename(columns = {\"school_name\": \"School Name\"})\n",
    "school_df = school_df.set_index(\"School Name\")\n",
    "school_df"
   ]
  },
  {
   "cell_type": "code",
   "execution_count": null,
   "metadata": {},
   "outputs": [],
   "source": [
    "#group by school name\n",
    "school_group_df = school_df.groupby(\"School Name\")\n",
    "school_group_df.head()"
   ]
  },
  {
   "cell_type": "code",
   "execution_count": null,
   "metadata": {},
   "outputs": [],
   "source": [
    "#calculate average math score per school\n",
    "Avg_math = school_group_df[\"math_score\"].mean()\n"
   ]
  },
  {
   "cell_type": "code",
   "execution_count": null,
   "metadata": {},
   "outputs": [],
   "source": [
    "#calculate average reading score per school\n",
    "Avg_read = school_group_df[\"reading_score\"].mean()\n"
   ]
  },
  {
   "cell_type": "code",
   "execution_count": null,
   "metadata": {},
   "outputs": [],
   "source": [
    "#Calculate percent passing math\n",
    "pass_math_df = school_df.loc[school_df[\"math_score\"] >= 70, :]\n",
    "math_group = pass_math_df.groupby(\"School Name\")\n",
    "math_percent = math_group[\"math_score\"].count() / math_group[\"size\"].unique() * 100\n",
    "\n"
   ]
  },
  {
   "cell_type": "code",
   "execution_count": null,
   "metadata": {},
   "outputs": [],
   "source": [
    "#calculate percent passing reading\n",
    "pass_read_df = school_df.loc[school_df[\"reading_score\"] >= 70, :]\n",
    "read_group = pass_read_df.groupby(\"School Name\")\n",
    "read_percent = read_group[\"reading_score\"].count() / read_group[\"size\"].unique() * 100\n"
   ]
  },
  {
   "cell_type": "code",
   "execution_count": null,
   "metadata": {},
   "outputs": [],
   "source": [
    "#calculate percent passing overall\n",
    "overall_pass_df = school_df.loc[((school_df[\"math_score\"] >= 70) & (school_df[\"reading_score\"] >= 70)) ,:]\n",
    "overall_group = overall_pass_df.groupby(\"School Name\")\n",
    "overall_percent = overall_group[\"student_name\"].count() / overall_group[\"size\"].unique() * 100\n"
   ]
  },
  {
   "cell_type": "code",
   "execution_count": null,
   "metadata": {},
   "outputs": [],
   "source": [
    "#create data frame from summary stats\n",
    "stats_df = pd.DataFrame({\"Average Math Score\": Avg_math, \"Average Reading Score\": Avg_read,\"% Passing Math\": math_percent,\n",
    "                         \"% Passing Reading\": read_percent, \"% Overall Passing\": overall_percent})\n",
    "stats_df"
   ]
  },
  {
   "cell_type": "code",
   "execution_count": null,
   "metadata": {},
   "outputs": [],
   "source": [
    "#calculate per student budget\n",
    "Per_student_budget = school_data[\"budget\"] / school_data[\"size\"]\n",
    "Per_student_budget"
   ]
  },
  {
   "cell_type": "code",
   "execution_count": null,
   "metadata": {
    "scrolled": true
   },
   "outputs": [],
   "source": [
    "#add per student budget to school_data df\n",
    "school_data[\"Per Student Budget\"] = Per_student_budget\n",
    "school_data = school_data.rename(columns = {\"school_name\": \"School Name\", \"type\": \"School Type\", \"size\": \"Total Students\",\n",
    "                                            \"budget\": \"Total School Budget\"})\n",
    "school_data "
   ]
  },
  {
   "cell_type": "code",
   "execution_count": null,
   "metadata": {
    "scrolled": true
   },
   "outputs": [],
   "source": [
    "#merge school_data with stats_df and \n",
    "merge_df = pd.merge(school_data, stats_df, on = \"School Name\")\n",
    "merge_df\n",
    "merge_df.dtypes"
   ]
  },
  {
   "cell_type": "code",
   "execution_count": null,
   "metadata": {},
   "outputs": [],
   "source": [
    "#change index to school name, delete school id, convert columns to floats, check data types\n",
    "summary_table = merge_df.set_index(\"School Name\")\n",
    "del summary_table[\"School ID\"]\n",
    "summary_table.loc[:,\"Total School Budget\"] = summary_table[\"Total School Budget\"].astype(float)\n",
    "summary_table.loc[:,\"% Passing Math\"] = summary_table[\"% Passing Math\"].astype(float)\n",
    "summary_table.loc[:,\"% Passing Reading\"] = summary_table[\"% Passing Reading\"].astype(float)\n",
    "summary_table.loc[:,\"% Overall Passing\"] = summary_table[\"% Overall Passing\"].astype(float)\n",
    "summary_table.dtypes"
   ]
  },
  {
   "cell_type": "code",
   "execution_count": null,
   "metadata": {},
   "outputs": [],
   "source": [
    "#sort by School Name alphabetized, format money columns, \n",
    "summary_table = summary_table.sort_values([\"School Name\"], ascending=True)\n",
    "summary_table_df = summary_table.style.format({\"Total School Budget\": \"${:,.2f}\",\n",
    "                           \"Per Student Budget\": \"${:.2f}\"})\n",
    "#shool summary table\n",
    "summary_table_df"
   ]
  },
  {
   "cell_type": "code",
   "execution_count": null,
   "metadata": {},
   "outputs": [],
   "source": [
    "#top performing schools by % overall passing\n",
    "summary_table = summary_table.sort_values([\"% Overall Passing\"], ascending = False)\n",
    "summary_table_df = summary_table.head().style.format({\"Total School Budget\": \"${:,.2f}\",\n",
    "                           \"Per Student Budget\": \"${:.2f}\"})\n",
    "summary_table_df"
   ]
  },
  {
   "cell_type": "code",
   "execution_count": null,
   "metadata": {},
   "outputs": [],
   "source": [
    "#bottom performing schools by % overall passing\n",
    "summary_table = summary_table.sort_values([\"% Overall Passing\"], ascending = True)\n",
    "summary_table_df = summary_table.head().style.format({\"Total School Budget\": \"${:,.2f}\",\n",
    "                           \"Per Student Budget\": \"${:.2f}\"})\n",
    "summary_table_df"
   ]
  },
  {
   "cell_type": "code",
   "execution_count": null,
   "metadata": {},
   "outputs": [],
   "source": []
  }
 ],
 "metadata": {
  "kernelspec": {
   "display_name": "Python 3",
   "language": "python",
   "name": "python3"
  },
  "language_info": {
   "codemirror_mode": {
    "name": "ipython",
    "version": 3
   },
   "file_extension": ".py",
   "mimetype": "text/x-python",
   "name": "python",
   "nbconvert_exporter": "python",
   "pygments_lexer": "ipython3",
   "version": "3.6.10"
  }
 },
 "nbformat": 4,
 "nbformat_minor": 4
}
